{
 "cells": [
  {
   "cell_type": "markdown",
   "id": "7d82894d",
   "metadata": {},
   "source": [
    "### Q1.  Explain with an example each when to use a for loop and a while loop. \n"
   ]
  },
  {
   "cell_type": "markdown",
   "id": "0b4f009a",
   "metadata": {},
   "source": [
    "'''A for loop is used when you want to repeat a specific task a certain number of times. \n",
    "For example, if you want to print the numbers from 1 to 10, you can use a for loop like this'''"
   ]
  },
  {
   "cell_type": "code",
   "execution_count": 4,
   "id": "6ff4b438",
   "metadata": {},
   "outputs": [
    {
     "name": "stdout",
     "output_type": "stream",
     "text": [
      "1, 2, 3, 4, 5, 6, 7, 8, 9, 10, "
     ]
    }
   ],
   "source": [
    "for i in range(1, 11):\n",
    "    print(i,end=\", \")"
   ]
  },
  {
   "cell_type": "markdown",
   "id": "d9670409",
   "metadata": {},
   "source": [
    "'''A while loop, on the other hand, is used when you want to repeat a task until a certain condition is met.\n",
    "For example, if you want to keep asking a user to enter a number until they enter a positive number,\n",
    "you can use a while loop like this'''"
   ]
  },
  {
   "cell_type": "code",
   "execution_count": 5,
   "id": "98799c48",
   "metadata": {},
   "outputs": [
    {
     "name": "stdout",
     "output_type": "stream",
     "text": [
      "Enter a positive number: -200\n",
      "Invalid input. Please enter a positive number.\n",
      "Enter a positive number: 11\n"
     ]
    }
   ],
   "source": [
    "num = int(input(\"Enter a positive number: \"))\n",
    "while num <= 0:\n",
    "    print(\"Invalid input. Please enter a positive number.\")\n",
    "    num = int(input(\"Enter a positive number: \"))"
   ]
  },
  {
   "cell_type": "markdown",
   "id": "cb8155ec",
   "metadata": {},
   "source": [
    "### Q2.  Write a python program to print the sum and product of the first 10 natural numbers using for  and while loop"
   ]
  },
  {
   "cell_type": "code",
   "execution_count": 14,
   "id": "f4883260",
   "metadata": {},
   "outputs": [
    {
     "name": "stdout",
     "output_type": "stream",
     "text": [
      "Sum of first 10 natural numbers using for loop: 55\n",
      "Product of first 10 natural numbers using for loop: 3628800\n",
      "Sum of first 10 natural numbers using while loop: 55\n",
      "Product of first 10 natural numbers using while loop: 1\n"
     ]
    }
   ],
   "source": [
    "# Using for loop\n",
    "summ = 0\n",
    "prod = 1\n",
    "for i in range(1, 11):\n",
    "    summ += i\n",
    "    prod *= i\n",
    "print(\"Sum of first 10 natural numbers using for loop:\", summ)\n",
    "print(\"Product of first 10 natural numbers using for loop:\", prod)\n",
    "\n",
    "# Using while loop\n",
    "summ = 0\n",
    "prod = 1\n",
    "i = 1\n",
    "while i <= 10:\n",
    "    summ += i\n",
    "    product *= i\n",
    "    i += 1\n",
    "print(\"Sum of first 10 natural numbers using while loop:\", summ)\n",
    "print(\"Product of first 10 natural numbers using while loop:\", prod)\n"
   ]
  },
  {
   "cell_type": "markdown",
   "id": "ef8225ef",
   "metadata": {},
   "source": [
    "### Q3. Create a python program to compute the electricity bill for a household. The per-unit charges in rupees are as follows: For the first 100 units, the user will be charged Rs. 4.5 per  unit, for the next 100 units, the user will be charged Rs. 6 per unit, and for the next 100 units, the user will  be charged Rs. 10 per unit, After 300 units and above the user will be charged Rs. 20 per unit.\n"
   ]
  },
  {
   "cell_type": "code",
   "execution_count": 15,
   "id": "e06fd4d2",
   "metadata": {},
   "outputs": [
    {
     "name": "stdout",
     "output_type": "stream",
     "text": [
      "Enter units consumed: 310\n",
      "Electricity Bill is:  2250.0\n"
     ]
    }
   ],
   "source": [
    "units= int(input(\"Enter units consumed: \"))\n",
    "\n",
    "if units<=200:\n",
    "    r=units*4.5\n",
    "    \n",
    "elif units<=200:\n",
    "    r=100*4.5+(units-100)*6\n",
    "    \n",
    "elif units <= 300:\n",
    "    r=100*4.5+100*6+(units-200)*10\n",
    "    \n",
    "else:\n",
    "    r=100*4.5+100*6+100*10+(units-300)*20\n",
    "    \n",
    "print(\"Electricity Bill is: \",r)    "
   ]
  },
  {
   "cell_type": "markdown",
   "id": "b61fee71",
   "metadata": {},
   "source": [
    "### Q4. Create a list of numbers from 1 to 100. Use for loop and while loop to calculate the cube of each  number and if the cube of that number is divisible by 4 or 5 then append that number in a list and print  that list. "
   ]
  },
  {
   "cell_type": "code",
   "execution_count": 20,
   "id": "a2cb1d83",
   "metadata": {},
   "outputs": [
    {
     "name": "stdout",
     "output_type": "stream",
     "text": [
      "Final list using for loop: [2, 4, 5, 6, 8, 10, 12, 14, 15, 16, 18, 20, 22, 24, 25, 26, 28, 30, 32, 34, 35, 36, 38, 40, 42, 44, 45, 46, 48, 50, 52, 54, 55, 56, 58, 60, 62, 64, 65, 66, 68, 70, 72, 74, 75, 76, 78, 80, 82, 84, 85, 86, 88, 90, 92, 94, 95, 96, 98, 100]\n"
     ]
    }
   ],
   "source": [
    "# Using For loop:\n",
    "list=[]\n",
    "\n",
    "for i in range(1,101):\n",
    "    c=i**3\n",
    "    if c%4==0 or c%5==0:\n",
    "        list.append(i)\n",
    "print(\"Final list using for loop:\",list)        "
   ]
  },
  {
   "cell_type": "code",
   "execution_count": 21,
   "id": "441ab145",
   "metadata": {},
   "outputs": [
    {
     "name": "stdout",
     "output_type": "stream",
     "text": [
      "Final list using while loop: [2, 4, 5, 6, 8, 10, 12, 14, 15, 16, 18, 20, 22, 24, 25, 26, 28, 30, 32, 34, 35, 36, 38, 40, 42, 44, 45, 46, 48, 50, 52, 54, 55, 56, 58, 60, 62, 64, 65, 66, 68, 70, 72, 74, 75, 76, 78, 80, 82, 84, 85, 86, 88, 90, 92, 94, 95, 96, 98, 100]\n"
     ]
    }
   ],
   "source": [
    "# Using While Loop:\n",
    "list=[]\n",
    "i=1\n",
    "while i<=100:\n",
    "    c=i**3\n",
    "    if c%4==0 or c%5==0:\n",
    "        list.append(i)\n",
    "    i += 1\n",
    "print(\"Final list using while loop:\",list)    "
   ]
  },
  {
   "cell_type": "markdown",
   "id": "54568dc1",
   "metadata": {},
   "source": [
    "### Q5.  Write a program to filter count vowels in the below-given string. string = \"I want to become a data scientist\" \n"
   ]
  },
  {
   "cell_type": "code",
   "execution_count": 22,
   "id": "7cc96d43",
   "metadata": {},
   "outputs": [
    {
     "name": "stdout",
     "output_type": "stream",
     "text": [
      "Total number of vowels in given string: 12\n"
     ]
    }
   ],
   "source": [
    "string = \"I want to become a data scientist\"\n",
    "vowel='aeiouAEIOU'\n",
    "cnt=0\n",
    "\n",
    "for i in string:\n",
    "    if i in vowel:\n",
    "        cnt+=1\n",
    "print(\"Total number of vowels in given string:\",cnt)        "
   ]
  },
  {
   "cell_type": "code",
   "execution_count": null,
   "id": "2f728e1b",
   "metadata": {},
   "outputs": [],
   "source": []
  }
 ],
 "metadata": {
  "kernelspec": {
   "display_name": "Python 3 (ipykernel)",
   "language": "python",
   "name": "python3"
  },
  "language_info": {
   "codemirror_mode": {
    "name": "ipython",
    "version": 3
   },
   "file_extension": ".py",
   "mimetype": "text/x-python",
   "name": "python",
   "nbconvert_exporter": "python",
   "pygments_lexer": "ipython3",
   "version": "3.9.7"
  }
 },
 "nbformat": 4,
 "nbformat_minor": 5
}
